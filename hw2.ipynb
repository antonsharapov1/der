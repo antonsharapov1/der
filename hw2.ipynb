{
 "cells": [
  {
   "cell_type": "code",
   "execution_count": 67,
   "metadata": {},
   "outputs": [
    {
     "name": "stdout",
     "output_type": "stream",
     "text": [
      "Цена при количестве симуляций 10^3: 4.54\n",
      "Цена при количестве симуляций 10^4: 4.34\n",
      "Цена при количестве симуляций 10^5: 4.44\n",
      "Цена при количестве симуляций 10^6: 4.46\n"
     ]
    }
   ],
   "source": [
    "import numpy as np\n",
    "import math\n",
    "\n",
    "class MKM():\n",
    "    def __init__(self, N):\n",
    "        self.t = 0.25\n",
    "        self.T = 0.75\n",
    "        self.r = 0.25\n",
    "        self.q = 0.02\n",
    "        self.sigma = 0.25\n",
    "        self.S0 = 100\n",
    "        self.K = 100\n",
    "        self.N = N\n",
    "\n",
    "    @staticmethod\n",
    "    def getSt(self):\n",
    "        Z = np.random.standard_normal(self.N)\n",
    "        values = []\n",
    "        for z in Z:\n",
    "            St = self.S0 * math.exp((self.r - self.q - self.sigma**2/2) * self.t + self.sigma * math.sqrt(self.t) * z)\n",
    "            values.append(St)\n",
    "        return np.mean(values)\n",
    "    \n",
    "    @staticmethod\n",
    "    def getST(self):\n",
    "        Z = np.random.standard_normal(self.N)\n",
    "        values = []\n",
    "        for z in Z:\n",
    "            ST = self.S0 * math.exp((self.r - self.q - self.sigma**2/2) * (self.T - self.t) + self.sigma * math.sqrt(self.t) * z)\n",
    "            values.append(ST)\n",
    "        return np.mean(values)\n",
    "    \n",
    "    @staticmethod\n",
    "    def getPayoff(St, ST):\n",
    "        return np.maximum(ST - St, 0)\n",
    "    \n",
    "    @staticmethod\n",
    "    def getDiscontPrice(self, payoff):\n",
    "        return np.exp(-self.r * self.T) * payoff\n",
    "    \n",
    "    def getPrice(self):   \n",
    "        St = self.getSt(self)\n",
    "        ST = self.getST(self)\n",
    "        payoff = self.getPayoff(St, ST)\n",
    "        price = self.getDiscontPrice(self, payoff)\n",
    "        return round(price, 2)\n",
    "        \n",
    "print(f\"Цена при количестве симуляций 10^3: {MKM(10**3).getPrice()}\")\n",
    "print(f\"Цена при количестве симуляций 10^4: {MKM(10**4).getPrice()}\")\n",
    "print(f\"Цена при количестве симуляций 10^5: {MKM(10**5).getPrice()}\")\n",
    "print(f\"Цена при количестве симуляций 10^6: {MKM(10**6).getPrice()}\")\n"
   ]
  }
 ],
 "metadata": {
  "kernelspec": {
   "display_name": "Python 3 (ipykernel)",
   "language": "python",
   "name": "python3"
  },
  "language_info": {
   "codemirror_mode": {
    "name": "ipython",
    "version": 3
   },
   "file_extension": ".py",
   "mimetype": "text/x-python",
   "name": "python",
   "nbconvert_exporter": "python",
   "pygments_lexer": "ipython3",
   "version": "3.11.5"
  }
 },
 "nbformat": 4,
 "nbformat_minor": 2
}
