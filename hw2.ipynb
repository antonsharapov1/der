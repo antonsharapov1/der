{
 "cells": [
  {
   "cell_type": "code",
   "execution_count": 6,
   "metadata": {},
   "outputs": [
    {
     "name": "stdout",
     "output_type": "stream",
     "text": [
      "Цена при количестве симуляций 1000: 9.05\n",
      "Цена при количестве симуляций 10000: 8.85\n",
      "Цена при количестве симуляций 100000: 8.86\n",
      "Цена при количестве симуляций 1000000: 8.82\n",
      "[ТЕСТ НА СХОДИМОСТЬ] Цена при количестве симуляций 1000000: 8.83\n",
      "[ТЕСТ НА СХОДИМОСТЬ] Цена при количестве симуляций 1000000: 8.82\n",
      "[ТЕСТ НА СХОДИМОСТЬ] Цена при количестве симуляций 1000000: 8.84\n",
      "[ТЕСТ НА СХОДИМОСТЬ] Цена при количестве симуляций 1000000: 8.83\n"
     ]
    }
   ],
   "source": [
    "import numpy as np\n",
    "import math\n",
    "\n",
    "class MKM():\n",
    "    def __init__(self):\n",
    "        self.t = 0.25\n",
    "        self.T = 0.75\n",
    "        self.r = 0.25\n",
    "        self.q = 0.02\n",
    "        self.sigma = 0.25\n",
    "        self.S0 = 100\n",
    "        self.K = 100\n",
    "\n",
    "    # находим St для случайного числа\n",
    "    @staticmethod\n",
    "    def getSt(self):\n",
    "        z = np.random.standard_normal()\n",
    "        return self.S0 * math.exp((self.r - self.q - self.sigma**2/2) * self.t + self.sigma * math.sqrt(self.t) * z)\n",
    "    \n",
    "    # находим ST для случайного числа\n",
    "    @staticmethod\n",
    "    def getST(self):\n",
    "        z = np.random.standard_normal()\n",
    "        return self.S0 * math.exp((self.r - self.q - self.sigma**2/2) * (self.T - self.t) + self.sigma * math.sqrt(self.t) * z)\n",
    "    \n",
    "    # для полученной пары (St, ST) находим payoff\n",
    "    @staticmethod\n",
    "    def getPayoff(St, ST):\n",
    "        return np.maximum(ST - St, 0)\n",
    "    \n",
    "    # дисконтируем payoff\n",
    "    @staticmethod\n",
    "    def getDiscontPrice(self, payoff):\n",
    "        return np.exp(-self.r * self.T) * payoff\n",
    "    \n",
    "    # симулируем N раз и возвращаем округленное среднее значение полученных дисконтируемых payoff\n",
    "    def getPrice(self, N):\n",
    "        values = []\n",
    "        for i in range(0, N):\n",
    "            St = self.getSt(self)\n",
    "            ST = self.getST(self)\n",
    "            payoff = self.getPayoff(St, ST)\n",
    "            price = self.getDiscontPrice(self, payoff)\n",
    "            values.append(price)\n",
    "        return round(np.mean(values), 2)\n",
    "\n",
    "# находим цену для симуляций с различным числом точек\n",
    "launches = [10**3, 10**4, 10**5, 10**6]\n",
    "for launch in launches:\n",
    "    print(f\"Цена при количестве симуляций {str(launch)}: {MKM().getPrice(launch)}\")\n",
    "\n",
    "# тест на сходимость\n",
    "for test_launch in [10**7, 10**8, 10**9, 10**10]:\n",
    "    print(f\"[ТЕСТ НА СХОДИМОСТЬ] Цена при количестве симуляций {str(launch)}: {MKM().getPrice(launch)}\")  \n"
   ]
  }
 ],
 "metadata": {
  "kernelspec": {
   "display_name": "Python 3 (ipykernel)",
   "language": "python",
   "name": "python3"
  },
  "language_info": {
   "codemirror_mode": {
    "name": "ipython",
    "version": 3
   },
   "file_extension": ".py",
   "mimetype": "text/x-python",
   "name": "python",
   "nbconvert_exporter": "python",
   "pygments_lexer": "ipython3",
   "version": "3.11.5"
  }
 },
 "nbformat": 4,
 "nbformat_minor": 2
}
