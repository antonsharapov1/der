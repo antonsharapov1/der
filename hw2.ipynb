{
 "cells": [
  {
   "cell_type": "code",
   "execution_count": 122,
   "metadata": {},
   "outputs": [
    {
     "name": "stdout",
     "output_type": "stream",
     "text": [
      "Цена при количестве симуляций 10^3: 8.77\n",
      "Цена при количестве симуляций 10^4: 8.77\n",
      "Цена при количестве симуляций 10^5: 8.85\n",
      "Цена при количестве симуляций 10^6: 8.82\n"
     ]
    }
   ],
   "source": [
    "import numpy as np\n",
    "import math\n",
    "\n",
    "class MKM():\n",
    "    def __init__(self):\n",
    "        self.t = 0.25\n",
    "        self.T = 0.75\n",
    "        self.r = 0.25\n",
    "        self.q = 0.02\n",
    "        self.sigma = 0.25\n",
    "        self.S0 = 100\n",
    "        self.K = 100\n",
    "\n",
    "    @staticmethod\n",
    "    def getSt(self):\n",
    "        z = np.random.standard_normal()\n",
    "        return self.S0 * math.exp((self.r - self.q - self.sigma**2/2) * self.t + self.sigma * math.sqrt(self.t) * z)\n",
    "    \n",
    "    @staticmethod\n",
    "    def getST(self):\n",
    "        z = np.random.standard_normal()\n",
    "        return self.S0 * math.exp((self.r - self.q - self.sigma**2/2) * (self.T - self.t) + self.sigma * math.sqrt(self.t) * z)\n",
    "    \n",
    "    @staticmethod\n",
    "    def getPayoff(St, ST):\n",
    "        return np.maximum(ST - St, 0)\n",
    "    \n",
    "    @staticmethod\n",
    "    def getDiscontPrice(self, payoff):\n",
    "        return np.exp(-self.r * self.T) * payoff\n",
    "    \n",
    "    def getPrice(self, N):\n",
    "        values = []\n",
    "        for i in range(0, N):\n",
    "            St = self.getSt(self)\n",
    "            ST = self.getST(self)\n",
    "            payoff = self.getPayoff(St, ST)\n",
    "            price = self.getDiscontPrice(self, payoff)\n",
    "            values.append(price)\n",
    "        return round(np.mean(values), 2)\n",
    "        \n",
    "print(f\"Цена при количестве симуляций 10^3: {MKM().getPrice(10**3)}\")\n",
    "print(f\"Цена при количестве симуляций 10^4: {MKM().getPrice(10**4)}\")\n",
    "print(f\"Цена при количестве симуляций 10^5: {MKM().getPrice(10**5)}\")\n",
    "print(f\"Цена при количестве симуляций 10^6: {MKM().getPrice(10**6)}\")\n"
   ]
  }
 ],
 "metadata": {
  "kernelspec": {
   "display_name": "Python 3 (ipykernel)",
   "language": "python",
   "name": "python3"
  },
  "language_info": {
   "codemirror_mode": {
    "name": "ipython",
    "version": 3
   },
   "file_extension": ".py",
   "mimetype": "text/x-python",
   "name": "python",
   "nbconvert_exporter": "python",
   "pygments_lexer": "ipython3",
   "version": "3.11.5"
  }
 },
 "nbformat": 4,
 "nbformat_minor": 2
}
